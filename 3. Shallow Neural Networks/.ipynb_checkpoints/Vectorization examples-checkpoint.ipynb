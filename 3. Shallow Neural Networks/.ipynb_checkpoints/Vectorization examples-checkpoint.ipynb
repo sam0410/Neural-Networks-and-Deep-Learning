{
 "cells": [
  {
   "cell_type": "code",
   "execution_count": null,
   "metadata": {},
   "outputs": [],
   "source": [
    "# Vectors and matrix valued functions. For example, perform exponentiation on all elements of a vector\n",
    "\n",
    "import numpy as np\n",
    "a = np.random.rand(1000);\n",
    "b = np.exp(a) "
   ]
  }
 ],
 "metadata": {
  "kernelspec": {
   "display_name": "Python 3",
   "language": "python",
   "name": "python3"
  },
  "language_info": {
   "codemirror_mode": {
    "name": "ipython",
    "version": 3
   },
   "file_extension": ".py",
   "mimetype": "text/x-python",
   "name": "python",
   "nbconvert_exporter": "python",
   "pygments_lexer": "ipython3",
   "version": "3.5.2"
  }
 },
 "nbformat": 4,
 "nbformat_minor": 2
}
